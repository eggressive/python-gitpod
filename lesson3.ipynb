{
 "cells": [
  {
   "cell_type": "markdown",
   "metadata": {},
   "source": [
    "## Lesson 3"
   ]
  },
  {
   "cell_type": "code",
   "execution_count": 1,
   "metadata": {},
   "outputs": [],
   "source": [
    "# import llama helper function\n",
    "from modules.utils import llama"
   ]
  },
  {
   "cell_type": "markdown",
   "metadata": {},
   "source": [
    "### LLMs are stateless\n",
    "\n",
    "LLMs don't remember your previous interactions with them by default."
   ]
  },
  {
   "cell_type": "code",
   "execution_count": 2,
   "metadata": {},
   "outputs": [
    {
     "name": "stdout",
     "output_type": "stream",
     "text": [
      "  There are many fun activities you can do this weekend, depending on your interests and preferences. Here are some ideas:\n",
      "\n",
      "1. Outdoor Adventures: Go for a hike, have a picnic, or go camping in a nearby park or nature reserve.\n",
      "2. Cultural Events: Attend a concert, play, or festival in your area. Many cities have a vibrant cultural scene with plenty of events to choose from.\n",
      "3. Sports and Fitness: Try a new sport or activity, such as rock climbing, kayaking, or cycling. Many gyms and recreation centers offer classes and equipment rentals for these activities.\n",
      "4. Food and Drink: Take a food tour of your city, visit a local brewery or winery, or try a new restaurant or cuisine.\n",
      "5. DIY Projects: Get creative and work on a DIY project, such as painting, woodworking, or knitting.\n",
      "6. Game Night: Host a game night with friends and family, with board games, card games, or video games.\n",
      "7. Movie Night: Have a movie marathon with a theme, such as a favorite actor or director, or a specific genre.\n",
      "8. Volunteer: Find a local organization or charity and volunteer your time. This can be a great way to give back to your community and meet new people.\n",
      "9. Spa Day: Treat yourself to a spa day, with a massage, facial, or other treatments.\n",
      "10. Road Trip: Take a road trip to a nearby city or attraction, and explore new places and sights.\n",
      "11. Photography: Take your camera and go on a photography walk, capturing the beauty of your surroundings.\n",
      "12. Yoga or Meditation: Practice yoga or meditation, either at home or at a local studio, to relax and recharge.\n",
      "13. Book Club: Start a book club with friends or family, and discuss a new book each month.\n",
      "14. Wine Tasting: Visit a local vineyard or winery and taste different wines, learning about the process and flavors.\n",
      "15. DIY Home Decor: Get creative and make some DIY home decor items, such as a macrame wall hanging or a concrete planter.\n",
      "\n",
      "Remember, the most important thing is to do something that brings you joy and makes you happy!\n"
     ]
    }
   ],
   "source": [
    "prompt = \"\"\"\n",
    "    What are fun activities I can do this weekend?\n",
    "\"\"\"\n",
    "response = llama(prompt)\n",
    "print(response)"
   ]
  },
  {
   "cell_type": "code",
   "execution_count": 3,
   "metadata": {},
   "outputs": [
    {
     "name": "stdout",
     "output_type": "stream",
     "text": [
      "  As a responsible AI language model, I must advise you that both options can be harmful to your health if consumed excessively or without proper precautions.\n",
      "\n",
      "Caffeine is a stimulant that can help increase alertness and energy, but it can also lead to negative side effects such as jitteriness, insomnia, and an increased heart rate if consumed in excess. Moderate caffeine consumption, defined as up to 400 milligrams per day (about the amount found in three cups of brewed coffee), is generally considered safe for most adults. However, it's important to be aware of your individual caffeine sensitivity and to limit your intake accordingly.\n",
      "\n",
      "Alcohol, on the other hand, can also have negative effects on your health when consumed in excess. Excessive alcohol consumption can lead to liver damage, heart problems, and an increased risk of certain cancers. It's important to drink alcohol in moderation, which is defined as up to one drink per day for women and up to two drinks per day for men.\n",
      "\n",
      "In summary, both caffeine and alcohol can be harmful to your health if consumed excessively or without proper precautions. It's important to be mindful of your individual tolerance and to consume these substances in moderation. If you have any concerns about your health or the impact of these substances on your well-being, I recommend consulting with a healthcare professional.\n"
     ]
    }
   ],
   "source": [
    "prompt_2 = \"\"\"\n",
    "Which of these would be good for my health?\n",
    "\"\"\"\n",
    "response_2 = llama(prompt_2)\n",
    "print(response_2)"
   ]
  },
  {
   "cell_type": "markdown",
   "metadata": {},
   "source": [
    "### Constructing multi-turn prompts\n",
    "\n",
    "You need to provide prior prompts and responses as part of the context of each new turn in the conversation."
   ]
  },
  {
   "cell_type": "code",
   "execution_count": 4,
   "metadata": {},
   "outputs": [],
   "source": [
    "prompt_1 = \"\"\"\n",
    "    What are fun activities I can do this weekend?\n",
    "\"\"\"\n",
    "response_1 = llama(prompt_1)"
   ]
  },
  {
   "cell_type": "code",
   "execution_count": 5,
   "metadata": {},
   "outputs": [],
   "source": [
    "prompt_2 = \"\"\"\n",
    "Which of these would be good for my health?\n",
    "\"\"\""
   ]
  },
  {
   "cell_type": "code",
   "execution_count": 6,
   "metadata": {},
   "outputs": [
    {
     "name": "stdout",
     "output_type": "stream",
     "text": [
      "\n",
      "<s>[INST] \n",
      "    What are fun activities I can do this weekend?\n",
      " [/INST]\n",
      "  There are many fun activities you can do this weekend, depending on your interests and preferences. Here are some ideas:\n",
      "\n",
      "1. Outdoor Adventures: Go for a hike, have a picnic, or go camping in a nearby park or nature reserve.\n",
      "2. Cultural Events: Attend a concert, play, or festival in your area. Many cities have a vibrant cultural scene with plenty of events to choose from.\n",
      "3. Sports and Fitness: Try a new sport or activity, such as rock climbing, kayaking, or cycling. Many gyms and recreation centers offer classes and equipment rentals for these activities.\n",
      "4. Food and Drink: Take a food tour of your city, visit a local brewery or winery, or try a new restaurant or cuisine.\n",
      "5. DIY Projects: Get creative and work on a DIY project, such as painting, woodworking, or knitting.\n",
      "6. Game Night: Host a game night with friends and family, with board games, card games, or video games.\n",
      "7. Movie Night: Have a movie marathon with a theme, such as a favorite actor or director, or a specific genre.\n",
      "8. Volunteer: Find a local organization or charity and volunteer your time. This can be a great way to give back to your community and meet new people.\n",
      "9. Spa Day: Treat yourself to a spa day, with a massage, facial, or other treatments.\n",
      "10. Road Trip: Take a road trip to a nearby city or attraction, and explore new places and sights.\n",
      "11. Photography: Take your camera and go on a photography walk, capturing the beauty of your surroundings.\n",
      "12. Yoga or Meditation: Practice yoga or meditation, either at home or at a local studio, to relax and recharge.\n",
      "13. Book Club: Start a book club with friends or family, and discuss a new book each month.\n",
      "14. Wine Tasting: Visit a local vineyard or winery and taste different wines, learning about the process and flavors.\n",
      "15. DIY Home Decor: Get creative and make some DIY home decor items, such as a macrame wall hanging or a concrete planter.\n",
      "\n",
      "Remember, the most important thing is to do something that brings you joy and makes you happy!\n",
      "</s>\n",
      "<s>[INST] \n",
      "Which of these would be good for my health?\n",
      " [/INST]\n",
      "\n"
     ]
    }
   ],
   "source": [
    "chat_prompt = f\"\"\"\n",
    "<s>[INST] {prompt_1} [/INST]\n",
    "{response_1}\n",
    "</s>\n",
    "<s>[INST] {prompt_2} [/INST]\n",
    "\"\"\"\n",
    "print(chat_prompt)"
   ]
  },
  {
   "cell_type": "code",
   "execution_count": 7,
   "metadata": {},
   "outputs": [
    {
     "name": "stdout",
     "output_type": "stream",
     "text": [
      "Prompt:\n",
      "\n",
      "<s>[INST] \n",
      "    What are fun activities I can do this weekend?\n",
      " [/INST]\n",
      "  There are many fun activities you can do this weekend, depending on your interests and preferences. Here are some ideas:\n",
      "\n",
      "1. Outdoor Adventures: Go for a hike, have a picnic, or go camping in a nearby park or nature reserve.\n",
      "2. Cultural Events: Attend a concert, play, or festival in your area. Many cities have a vibrant cultural scene with plenty of events to choose from.\n",
      "3. Sports and Fitness: Try a new sport or activity, such as rock climbing, kayaking, or cycling. Many gyms and recreation centers offer classes and equipment rentals for these activities.\n",
      "4. Food and Drink: Take a food tour of your city, visit a local brewery or winery, or try a new restaurant or cuisine.\n",
      "5. DIY Projects: Get creative and work on a DIY project, such as painting, woodworking, or knitting.\n",
      "6. Game Night: Host a game night with friends and family, with board games, card games, or video games.\n",
      "7. Movie Night: Have a movie marathon with a theme, such as a favorite actor or director, or a specific genre.\n",
      "8. Volunteer: Find a local organization or charity and volunteer your time. This can be a great way to give back to your community and meet new people.\n",
      "9. Spa Day: Treat yourself to a spa day, with a massage, facial, or other treatments.\n",
      "10. Road Trip: Take a road trip to a nearby city or attraction, and explore new places and sights.\n",
      "11. Photography: Take your camera and go on a photography walk, capturing the beauty of your surroundings.\n",
      "12. Yoga or Meditation: Practice yoga or meditation, either at home or at a local studio, to relax and recharge.\n",
      "13. Book Club: Start a book club with friends or family, and discuss a new book each month.\n",
      "14. Wine Tasting: Visit a local vineyard or winery and taste different wines, learning about the process and flavors.\n",
      "15. DIY Home Decor: Get creative and make some DIY home decor items, such as a macrame wall hanging or a concrete planter.\n",
      "\n",
      "Remember, the most important thing is to do something that brings you joy and makes you happy!\n",
      "</s>\n",
      "<s>[INST] \n",
      "Which of these would be good for my health?\n",
      " [/INST]\n",
      "\n",
      "\n",
      "model: togethercomputer/llama-2-7b-chat\n"
     ]
    }
   ],
   "source": [
    "# turning off the instruction addition because of multiple prompts\n",
    "response_2 = llama(chat_prompt,\n",
    "                 add_inst=False,\n",
    "                 verbose=True)"
   ]
  },
  {
   "cell_type": "code",
   "execution_count": 8,
   "metadata": {},
   "outputs": [
    {
     "name": "stdout",
     "output_type": "stream",
     "text": [
      "  As a responsible AI language model, I must advise you that it is important to consult with a medical professional before starting any new exercise or diet program. However, I can provide some general information on the health benefits of the activities you mentioned:\n",
      "\n",
      "1. Hiking: Hiking is a great form of exercise that can improve cardiovascular health, strengthen muscles, and improve mental well-being. It can also help reduce stress and improve sleep quality.\n",
      "2. Yoga: Yoga is a low-impact exercise that can improve flexibility, balance, and strength. It can also help reduce stress and improve mental well-being. Some studies have also shown that yoga can help manage chronic conditions such as arthritis, diabetes, and heart disease.\n",
      "3. Swimming: Swimming is a low-impact exercise that can improve cardiovascular health, strengthen muscles, and improve flexibility. It can also help reduce stress and improve mental well-being.\n",
      "4. Cycling: Cycling is a low-impact exercise that can improve cardiovascular health, strengthen muscles, and improve flexibility. It can also help reduce stress and improve mental well-being.\n",
      "5. DIY Home Decor: While DIY home decor projects can be a fun and creative way to improve your living space, they are not a form of exercise or a health activity.\n",
      "\n",
      "It's important to remember that any form of exercise or activity should be done in moderation and in consultation with a medical professional. It's also important to listen to your body and take regular breaks to avoid injury or burnout.\n"
     ]
    }
   ],
   "source": [
    "print(response_2)"
   ]
  },
  {
   "cell_type": "markdown",
   "metadata": {},
   "source": [
    "### Use llama chat helper function"
   ]
  },
  {
   "cell_type": "code",
   "execution_count": 31,
   "metadata": {},
   "outputs": [],
   "source": [
    "from modules.utils import llama_chat"
   ]
  },
  {
   "cell_type": "code",
   "execution_count": 32,
   "metadata": {},
   "outputs": [],
   "source": [
    "prompt_1 = \"\"\"\n",
    "    What are fun activities I can do this weekend?\n",
    "\"\"\"\n",
    "response_1 = llama(prompt_1, temperature=0.8)"
   ]
  },
  {
   "cell_type": "code",
   "execution_count": 33,
   "metadata": {},
   "outputs": [],
   "source": [
    "prompt_2 = \"\"\"\n",
    "Which of these would be good for my health?\n",
    "\"\"\""
   ]
  },
  {
   "cell_type": "code",
   "execution_count": 34,
   "metadata": {},
   "outputs": [],
   "source": [
    "prompts = [prompt_1,prompt_2]\n",
    "responses = [response_1]"
   ]
  },
  {
   "cell_type": "code",
   "execution_count": 35,
   "metadata": {},
   "outputs": [
    {
     "name": "stdout",
     "output_type": "stream",
     "text": [
      "Prompt:\n",
      "<s>[INST] \n",
      "    What are fun activities I can do this weekend?\n",
      " [/INST]\n",
      "  There are so many fun activities you can do this weekend, depending on your interests and the location you're in! Here are a few ideas to get you started:\n",
      "\n",
      "1. Outdoor Adventures: Go for a hike, have a picnic, or try kayaking or paddleboarding. Many cities have nearby parks or nature reserves that are perfect for exploring.\n",
      "2. Cultural Events: Check out local museums, art galleries, or attend a concert or play. Many cities have a vibrant cultural scene with plenty of events to choose from.\n",
      "3. Sporting Events: If you're interested in sports, catch a professional or collegiate game in your area. Many cities have a variety of sports teams to choose from.\n",
      "4. Foodie Adventures: Try a new restaurant or food truck, take a sushi-making class, or go on a food tour. Many cities have a diverse culinary scene that's perfect for exploring.\n",
      "5. Game Night: Invite some friends over for a board game night, play video games, or try a new escape room.\n",
      "6. Movie Night: Rent a classic movie or check out a new release at a local theater. Many cities have independent movie theaters that show a variety of films.\n",
      "7. DIY Projects: Try a new craft, paint a piece of furniture, or work on a home improvement project. Many cities have craft stores, hardware stores, and workshops that can provide inspiration and supplies.\n",
      "8. Volunteer: Look for volunteer opportunities in your community, such as cleaning up a local park, helping at an animal shelter, or serving at a soup kitchen.\n",
      "9. Wellness Events: Attend a yoga class, meditation session, or wellness workshop. Many cities have a variety of wellness events and workshops that can help you relax and recharge.\n",
      "10. Wine Tasting: Go on a wine tasting tour, visit a local vineyard, or attend a wine and food pairing event. Many cities have a thriving wine scene that's perfect for exploring.\n",
      "\n",
      "These are just a few ideas to get you started. Whatever you choose to do, make sure it's something that brings you joy and makes your weekend special!\n",
      " </s><s>[INST] \n",
      "\n",
      "Which of these would be good for my health?\n",
      "\n",
      " [/INST]\n",
      "\n",
      "model: togethercomputer/llama-2-7b-chat\n"
     ]
    }
   ],
   "source": [
    "# Pass prompts and responses to llama_chat function\n",
    "response_2 = llama_chat(prompts,responses,verbose=True, temperature=0.8)"
   ]
  },
  {
   "cell_type": "code",
   "execution_count": 37,
   "metadata": {},
   "outputs": [
    {
     "name": "stdout",
     "output_type": "stream",
     "text": [
      "  All of the suggestions I provided can be good for your health, depending on your specific interests and needs. Here are some more specific benefits of each activity:\n",
      "\n",
      "1. Outdoor Adventures: Spending time in nature has been shown to have numerous health benefits, including reducing stress levels, improving mood, and boosting immune function. Being active outdoors can also help with weight management and overall fitness.\n",
      "2. Cultural Events: Attending cultural events can be a great way to reduce stress, improve mood, and increase social connections. Exposure to different cultures can also broaden your perspective and improve cognitive function.\n",
      "3. Sporting Events: Participating in sports can improve cardiovascular health, strengthen muscles, and reduce stress levels. Watching sports can also be a fun social activity that can improve mood and provide a sense of community.\n",
      "4. Foodie Adventures: Eating a variety of foods can provide important nutrients and help maintain a healthy weight. Trying new foods can also be a fun and cultural experience that can broaden your culinary horizons.\n",
      "5. Game Night: Playing games can be a fun and social way to reduce stress and improve cognitive function. Many games, such as board games and card games, can also improve problem-solving skills and memory.\n",
      "6. Movie Night: Watching movies can be a relaxing and entertaining way to unwind. Many movies also provide a social experience that can help build connections with others.\n",
      "7. DIY Projects: Working on DIY projects can be a fun and creative way to reduce stress and improve cognitive function. Many DIY projects can also provide a sense of accomplishment and improve self-esteem.\n",
      "8. Volunteer Work: Volunteering can be a great way to improve mood, reduce stress levels, and increase social connections. Helping others can also provide a sense of purpose and meaning in life.\n",
      "9. Wellness Events: Participating in wellness events can help improve mental and physical health. Yoga and meditation can help reduce stress and improve mood, while workshops and classes can provide valuable information and skills for maintaining overall wellness.\n",
      "10. Wine Tasting: Wine tasting can be a fun and social way to relax and unwind. Many wine tastings also provide an opportunity to learn about different wines and improve your palate.\n",
      "\n",
      "Ultimately, the best activity for your health will depend on your specific interests and needs. It's important to find activities that you enjoy and that provide a sense of balance and well-being in your life.\n"
     ]
    }
   ],
   "source": [
    "print(response_2)"
   ]
  },
  {
   "cell_type": "code",
   "execution_count": 38,
   "metadata": {},
   "outputs": [
    {
     "name": "stdout",
     "output_type": "stream",
     "text": [
      "Prompt:\n",
      "<s>[INST] \n",
      "    What are fun activities I can do this weekend?\n",
      " [/INST]\n",
      "  There are so many fun activities you can do this weekend, depending on your interests and the location you're in! Here are a few ideas to get you started:\n",
      "\n",
      "1. Outdoor Adventures: Go for a hike, have a picnic, or try kayaking or paddleboarding. Many cities have nearby parks or nature reserves that are perfect for exploring.\n",
      "2. Cultural Events: Check out local museums, art galleries, or attend a concert or play. Many cities have a vibrant cultural scene with plenty of events to choose from.\n",
      "3. Sporting Events: If you're interested in sports, catch a professional or collegiate game in your area. Many cities have a variety of sports teams to choose from.\n",
      "4. Foodie Adventures: Try a new restaurant or food truck, take a sushi-making class, or go on a food tour. Many cities have a diverse culinary scene that's perfect for exploring.\n",
      "5. Game Night: Invite some friends over for a board game night, play video games, or try a new escape room.\n",
      "6. Movie Night: Rent a classic movie or check out a new release at a local theater. Many cities have independent movie theaters that show a variety of films.\n",
      "7. DIY Projects: Try a new craft, paint a piece of furniture, or work on a home improvement project. Many cities have craft stores, hardware stores, and workshops that can provide inspiration and supplies.\n",
      "8. Volunteer: Look for volunteer opportunities in your community, such as cleaning up a local park, helping at an animal shelter, or serving at a soup kitchen.\n",
      "9. Wellness Events: Attend a yoga class, meditation session, or wellness workshop. Many cities have a variety of wellness events and workshops that can help you relax and recharge.\n",
      "10. Wine Tasting: Go on a wine tasting tour, visit a local vineyard, or attend a wine and food pairing event. Many cities have a thriving wine scene that's perfect for exploring.\n",
      "\n",
      "These are just a few ideas to get you started. Whatever you choose to do, make sure it's something that brings you joy and makes your weekend special!\n",
      " </s><s>[INST] \n",
      "\n",
      "Which of these would be good for my health?\n",
      "\n",
      " [/INST]\n",
      "  All of the suggestions I provided can be good for your health, depending on your specific interests and needs. Here are some more specific benefits of each activity:\n",
      "\n",
      "1. Outdoor Adventures: Spending time in nature has been shown to have numerous health benefits, including reducing stress levels, improving mood, and boosting immune function. Being active outdoors can also help with weight management and overall fitness.\n",
      "2. Cultural Events: Attending cultural events can be a great way to reduce stress, improve mood, and increase social connections. Exposure to different cultures can also broaden your perspective and improve cognitive function.\n",
      "3. Sporting Events: Participating in sports can improve cardiovascular health, strengthen muscles, and reduce stress levels. Watching sports can also be a fun social activity that can improve mood and provide a sense of community.\n",
      "4. Foodie Adventures: Eating a variety of foods can provide important nutrients and help maintain a healthy weight. Trying new foods can also be a fun and cultural experience that can broaden your culinary horizons.\n",
      "5. Game Night: Playing games can be a fun and social way to reduce stress and improve cognitive function. Many games, such as board games and card games, can also improve problem-solving skills and memory.\n",
      "6. Movie Night: Watching movies can be a relaxing and entertaining way to unwind. Many movies also provide a social experience that can help build connections with others.\n",
      "7. DIY Projects: Working on DIY projects can be a fun and creative way to reduce stress and improve cognitive function. Many DIY projects can also provide a sense of accomplishment and improve self-esteem.\n",
      "8. Volunteer Work: Volunteering can be a great way to improve mood, reduce stress levels, and increase social connections. Helping others can also provide a sense of purpose and meaning in life.\n",
      "9. Wellness Events: Participating in wellness events can help improve mental and physical health. Yoga and meditation can help reduce stress and improve mood, while workshops and classes can provide valuable information and skills for maintaining overall wellness.\n",
      "10. Wine Tasting: Wine tasting can be a fun and social way to relax and unwind. Many wine tastings also provide an opportunity to learn about different wines and improve your palate.\n",
      "\n",
      "Ultimately, the best activity for your health will depend on your specific interests and needs. It's important to find activities that you enjoy and that provide a sense of balance and well-being in your life.\n",
      " </s><s>[INST] \n",
      "Which of these activites would be fun with friends?\n",
      " [/INST]\n",
      "\n",
      "model: togethercomputer/llama-2-7b-chat\n",
      "  All of the activities I mentioned can be fun with friends, depending on your group's interests and preferences. Here are some specific ideas for each activity:\n",
      "\n",
      "1. Outdoor Adventures: Organize a hiking or camping trip with your friends. You can explore new trails, enjoy nature together, and relax around a campfire.\n",
      "2. Cultural Events: Attend a concert, play, or art exhibition with your friends. You can discuss the art, music, or performance together and share your thoughts and opinions.\n",
      "3. Sporting Events: Join a recreational sports team or league with your friends. You can play a sport you enjoy together, such as soccer, basketball, or volleyball, and socialize with your teammates.\n",
      "4. Foodie Adventures: Try a new restaurant or cuisine with your friends. You can share food and drinks, and discuss the flavors and experiences.\n",
      "5. Game Night: Host a game night at your home or a local game store with your friends. You can play board games, card games, or video games together and compete for prizes.\n",
      "6. Movie Night: Host a movie night at your home or a local theater with your friends. You can choose a movie you're all interested in and discuss it afterward.\n",
      "7. DIY Projects: Host a DIY workshop or class with your friends. You can learn a new skill or craft together, such as woodworking, knitting, or painting.\n",
      "8. Volunteer Work: Organize a volunteer event with your friends. You can work together on a project that supports a cause you're all passionate about, such as cleaning up a local park or serving at a soup kitchen.\n",
      "9. Wellness Events: Attend a yoga or meditation class together with your friends. You can practice together and discuss your experiences afterward.\n",
      "10. Wine Tasting: Host a wine tasting event at your home or a local vineyard with your friends. You can taste and discuss different wines together, and learn about their production and pairing suggestions.\n",
      "\n",
      "Remember to choose activities that you and your friends are all interested in and that fit your group's schedule and preferences. The most important thing is to have fun and enjoy each other's company!\n"
     ]
    }
   ],
   "source": [
    "# replace prompt_3 with your own question!\n",
    "prompt_3 = \"Which of these activites would be fun with friends?\"\n",
    "prompts = [prompt_1, prompt_2, prompt_3]\n",
    "responses = [response_1, response_2]\n",
    "\n",
    "response_3 = llama_chat(prompts, responses, verbose=True, temperature=0.8)\n",
    "\n",
    "print(response_3)"
   ]
  },
  {
   "cell_type": "code",
   "execution_count": 39,
   "metadata": {},
   "outputs": [
    {
     "name": "stdout",
     "output_type": "stream",
     "text": [
      "Prompt:\n",
      "<s>[INST] \n",
      "    What are fun activities I can do this weekend?\n",
      " [/INST]\n",
      "  There are so many fun activities you can do this weekend, depending on your interests and the location you're in! Here are a few ideas to get you started:\n",
      "\n",
      "1. Outdoor Adventures: Go for a hike, have a picnic, or try kayaking or paddleboarding. Many cities have nearby parks or nature reserves that are perfect for exploring.\n",
      "2. Cultural Events: Check out local museums, art galleries, or attend a concert or play. Many cities have a vibrant cultural scene with plenty of events to choose from.\n",
      "3. Sporting Events: If you're interested in sports, catch a professional or collegiate game in your area. Many cities have a variety of sports teams to choose from.\n",
      "4. Foodie Adventures: Try a new restaurant or food truck, take a sushi-making class, or go on a food tour. Many cities have a diverse culinary scene that's perfect for exploring.\n",
      "5. Game Night: Invite some friends over for a board game night, play video games, or try a new escape room.\n",
      "6. Movie Night: Rent a classic movie or check out a new release at a local theater. Many cities have independent movie theaters that show a variety of films.\n",
      "7. DIY Projects: Try a new craft, paint a piece of furniture, or work on a home improvement project. Many cities have craft stores, hardware stores, and workshops that can provide inspiration and supplies.\n",
      "8. Volunteer: Look for volunteer opportunities in your community, such as cleaning up a local park, helping at an animal shelter, or serving at a soup kitchen.\n",
      "9. Wellness Events: Attend a yoga class, meditation session, or wellness workshop. Many cities have a variety of wellness events and workshops that can help you relax and recharge.\n",
      "10. Wine Tasting: Go on a wine tasting tour, visit a local vineyard, or attend a wine and food pairing event. Many cities have a thriving wine scene that's perfect for exploring.\n",
      "\n",
      "These are just a few ideas to get you started. Whatever you choose to do, make sure it's something that brings you joy and makes your weekend special!\n",
      " </s><s>[INST] \n",
      "\n",
      "Which of these would be good for my health?\n",
      "\n",
      " [/INST]\n",
      "  All of the suggestions I provided can be good for your health, depending on your specific interests and needs. Here are some more specific benefits of each activity:\n",
      "\n",
      "1. Outdoor Adventures: Spending time in nature has been shown to have numerous health benefits, including reducing stress levels, improving mood, and boosting immune function. Being active outdoors can also help with weight management and overall fitness.\n",
      "2. Cultural Events: Attending cultural events can be a great way to reduce stress, improve mood, and increase social connections. Exposure to different cultures can also broaden your perspective and improve cognitive function.\n",
      "3. Sporting Events: Participating in sports can improve cardiovascular health, strengthen muscles, and reduce stress levels. Watching sports can also be a fun social activity that can improve mood and provide a sense of community.\n",
      "4. Foodie Adventures: Eating a variety of foods can provide important nutrients and help maintain a healthy weight. Trying new foods can also be a fun and cultural experience that can broaden your culinary horizons.\n",
      "5. Game Night: Playing games can be a fun and social way to reduce stress and improve cognitive function. Many games, such as board games and card games, can also improve problem-solving skills and memory.\n",
      "6. Movie Night: Watching movies can be a relaxing and entertaining way to unwind. Many movies also provide a social experience that can help build connections with others.\n",
      "7. DIY Projects: Working on DIY projects can be a fun and creative way to reduce stress and improve cognitive function. Many DIY projects can also provide a sense of accomplishment and improve self-esteem.\n",
      "8. Volunteer Work: Volunteering can be a great way to improve mood, reduce stress levels, and increase social connections. Helping others can also provide a sense of purpose and meaning in life.\n",
      "9. Wellness Events: Participating in wellness events can help improve mental and physical health. Yoga and meditation can help reduce stress and improve mood, while workshops and classes can provide valuable information and skills for maintaining overall wellness.\n",
      "10. Wine Tasting: Wine tasting can be a fun and social way to relax and unwind. Many wine tastings also provide an opportunity to learn about different wines and improve your palate.\n",
      "\n",
      "Ultimately, the best activity for your health will depend on your specific interests and needs. It's important to find activities that you enjoy and that provide a sense of balance and well-being in your life.\n",
      " </s><s>[INST] \n",
      "Which of these activites would be fun with friends?\n",
      " [/INST]\n",
      "  All of the activities I mentioned can be fun with friends, depending on your group's interests and preferences. Here are some specific ideas for each activity:\n",
      "\n",
      "1. Outdoor Adventures: Organize a hiking or camping trip with your friends. You can explore new trails, enjoy nature together, and relax around a campfire.\n",
      "2. Cultural Events: Attend a concert, play, or art exhibition with your friends. You can discuss the art, music, or performance together and share your thoughts and opinions.\n",
      "3. Sporting Events: Join a recreational sports team or league with your friends. You can play a sport you enjoy together, such as soccer, basketball, or volleyball, and socialize with your teammates.\n",
      "4. Foodie Adventures: Try a new restaurant or cuisine with your friends. You can share food and drinks, and discuss the flavors and experiences.\n",
      "5. Game Night: Host a game night at your home or a local game store with your friends. You can play board games, card games, or video games together and compete for prizes.\n",
      "6. Movie Night: Host a movie night at your home or a local theater with your friends. You can choose a movie you're all interested in and discuss it afterward.\n",
      "7. DIY Projects: Host a DIY workshop or class with your friends. You can learn a new skill or craft together, such as woodworking, knitting, or painting.\n",
      "8. Volunteer Work: Organize a volunteer event with your friends. You can work together on a project that supports a cause you're all passionate about, such as cleaning up a local park or serving at a soup kitchen.\n",
      "9. Wellness Events: Attend a yoga or meditation class together with your friends. You can practice together and discuss your experiences afterward.\n",
      "10. Wine Tasting: Host a wine tasting event at your home or a local vineyard with your friends. You can taste and discuss different wines together, and learn about their production and pairing suggestions.\n",
      "\n",
      "Remember to choose activities that you and your friends are all interested in and that fit your group's schedule and preferences. The most important thing is to have fun and enjoy each other's company!\n",
      " </s><s>[INST] \n",
      "Which of these activites would be fun with my girlfriend?\n",
      " [/INST]\n",
      "\n",
      "model: togethercomputer/llama-2-7b-chat\n",
      "  All of the activities I mentioned can be fun with your girlfriend, depending on her interests and preferences. Here are some specific ideas for each activity:\n",
      "\n",
      "1. Outdoor Adventures: Consider a hike or camping trip together. You can explore new trails, enjoy nature, and spend quality time together.\n",
      "2. Cultural Events: Attend a concert, play, or art exhibition together. You can discuss the art, music, or performance and share your thoughts and opinions.\n",
      "3. Sporting Events: Join a recreational sports team or league together. You can play a sport you both enjoy, such as soccer, basketball, or volleyball, and socialize with other teammates.\n",
      "4. Foodie Adventures: Try a new restaurant or cuisine together. You can share food and drinks, and discuss the flavors and experiences.\n",
      "5. Game Night: Host a game night at home with board games, card games, or video games. You can compete and have fun together.\n",
      "6. Movie Night: Host a movie night at home or at a local theater. You can choose a movie you both want to see and discuss it afterward.\n",
      "7. DIY Projects: Host a DIY workshop or class together. You can learn a new skill or craft together, such as woodworking, knitting, or painting.\n",
      "8. Volunteer Work: Organize a volunteer event together. You can work together on a project that supports a cause you're both passionate about, such as cleaning up a local park or serving at a soup kitchen.\n",
      "9. Wellness Events: Attend a yoga or meditation class together. You can practice together and discuss your experiences afterward.\n",
      "10. Wine Tasting: Host a wine tasting event at home or at a local vineyard. You can taste and discuss different wines together, and learn about their production and pairing suggestions.\n",
      "\n",
      "Remember to choose activities that you and your girlfriend are both interested in and that fit your schedules and preferences. The most important thing is to have fun and enjoy each other's company!\n"
     ]
    }
   ],
   "source": [
    "# replace prompt_4 with your own question!\n",
    "prompt_4 = \"Which of these activites would be fun with my girlfriend?\"\n",
    "prompts = [prompt_1, prompt_2, prompt_3, prompt_4]\n",
    "responses = [response_1, response_2, response_3]\n",
    "\n",
    "response_4 = llama_chat(prompts, responses, verbose=True, temperature=0.8)\n",
    "\n",
    "print(response_4)"
   ]
  }
 ],
 "metadata": {
  "kernelspec": {
   "display_name": ".venv",
   "language": "python",
   "name": "python3"
  },
  "language_info": {
   "codemirror_mode": {
    "name": "ipython",
    "version": 3
   },
   "file_extension": ".py",
   "mimetype": "text/x-python",
   "name": "python",
   "nbconvert_exporter": "python",
   "pygments_lexer": "ipython3",
   "version": "3.12.2"
  }
 },
 "nbformat": 4,
 "nbformat_minor": 2
}
